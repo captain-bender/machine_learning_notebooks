{
 "cells": [
  {
   "cell_type": "code",
   "execution_count": 1,
   "id": "0646b699",
   "metadata": {
    "execution": {
     "iopub.execute_input": "2024-10-10T10:30:12.499235Z",
     "iopub.status.busy": "2024-10-10T10:30:12.498728Z",
     "iopub.status.idle": "2024-10-10T10:30:14.491471Z",
     "shell.execute_reply": "2024-10-10T10:30:14.489829Z"
    },
    "papermill": {
     "duration": 2.000668,
     "end_time": "2024-10-10T10:30:14.494740",
     "exception": false,
     "start_time": "2024-10-10T10:30:12.494072",
     "status": "completed"
    },
    "tags": []
   },
   "outputs": [
    {
     "name": "stdout",
     "output_type": "stream",
     "text": [
      "Confusion Matrix:\n",
      "[[15  2]\n",
      " [ 0 13]]\n",
      "Accuracy: 0.93\n",
      "Precision: 1.00\n",
      "Recall: 0.88\n",
      "F1 Score: 0.94\n"
     ]
    }
   ],
   "source": [
    "import numpy as np\n",
    "from sklearn.datasets import load_iris\n",
    "from sklearn.linear_model import Perceptron\n",
    "from sklearn.model_selection import train_test_split\n",
    "from sklearn.metrics import confusion_matrix, accuracy_score, recall_score, f1_score, precision_score\n",
    "\n",
    "# Load the Iris dataset\n",
    "iris = load_iris()\n",
    "X = iris.data\n",
    "y = iris.target\n",
    "\n",
    "# For simplicity, let's turn this into a binary classification problem by selecting only two classes\n",
    "# Here we select class 1 (Iris-versicolor) and class 2 (Iris-virginica)\n",
    "X = X[y != 0]\n",
    "y = y[y != 0]\n",
    "\n",
    "# Split the data into training and testing sets\n",
    "X_train, X_test, y_train, y_test = train_test_split(X, y, test_size=0.3, random_state=42)\n",
    "\n",
    "# Instantiate and train the Perceptron model\n",
    "classifier = Perceptron()\n",
    "classifier.fit(X_train, y_train)\n",
    "\n",
    "# Make predictions on the test set\n",
    "y_pred = classifier.predict(X_test)\n",
    "\n",
    "# Calculate metrics\n",
    "conf_matrix = confusion_matrix(y_test, y_pred)\n",
    "accuracy = accuracy_score(y_test, y_pred)\n",
    "precision = precision_score(y_test, y_pred)\n",
    "recall = recall_score(y_test, y_pred)\n",
    "f1 = f1_score(y_test, y_pred)\n",
    "\n",
    "# Print results\n",
    "print(\"Confusion Matrix:\")\n",
    "print(conf_matrix)\n",
    "print(f\"Accuracy: {accuracy:.2f}\")\n",
    "print(f\"Precision: {precision:.2f}\")\n",
    "print(f\"Recall: {recall:.2f}\")\n",
    "print(f\"F1 Score: {f1:.2f}\")"
   ]
  },
  {
   "cell_type": "code",
   "execution_count": 2,
   "id": "0d919ae7",
   "metadata": {
    "execution": {
     "iopub.execute_input": "2024-10-10T10:30:14.501741Z",
     "iopub.status.busy": "2024-10-10T10:30:14.501171Z",
     "iopub.status.idle": "2024-10-10T10:30:14.511105Z",
     "shell.execute_reply": "2024-10-10T10:30:14.509932Z"
    },
    "papermill": {
     "duration": 0.016184,
     "end_time": "2024-10-10T10:30:14.513617",
     "exception": false,
     "start_time": "2024-10-10T10:30:14.497433",
     "status": "completed"
    },
    "tags": []
   },
   "outputs": [
    {
     "data": {
      "text/plain": [
       "array(['setosa', 'versicolor', 'virginica'], dtype='<U10')"
      ]
     },
     "execution_count": 2,
     "metadata": {},
     "output_type": "execute_result"
    }
   ],
   "source": [
    "iris.target_names"
   ]
  },
  {
   "cell_type": "code",
   "execution_count": 3,
   "id": "5d434f95",
   "metadata": {
    "execution": {
     "iopub.execute_input": "2024-10-10T10:30:14.520582Z",
     "iopub.status.busy": "2024-10-10T10:30:14.520119Z",
     "iopub.status.idle": "2024-10-10T10:30:14.854326Z",
     "shell.execute_reply": "2024-10-10T10:30:14.852895Z"
    },
    "papermill": {
     "duration": 0.340931,
     "end_time": "2024-10-10T10:30:14.857158",
     "exception": false,
     "start_time": "2024-10-10T10:30:14.516227",
     "status": "completed"
    },
    "tags": []
   },
   "outputs": [
    {
     "name": "stdout",
     "output_type": "stream",
     "text": [
      "[[15  2]\n",
      " [ 0 13]]\n"
     ]
    },
    {
     "data": {
      "image/png": "[encoded data removed]",
      "text/plain": [
       "<Figure size 640x480 with 2 Axes>"
      ]
     },
     "metadata": {},
     "output_type": "display_data"
    }
   ],
   "source": [
    "from sklearn.metrics import ConfusionMatrixDisplay\n",
    "import matplotlib.pyplot as plt\n",
    "\n",
    "class_names = iris.target_names\n",
    "\n",
    "disp = ConfusionMatrixDisplay.from_estimator(\n",
    "        classifier,\n",
    "        X_test,\n",
    "        y_test,\n",
    "        display_labels=class_names[1:],\n",
    "        cmap=plt.cm.Blues,\n",
    "    )\n",
    "disp.ax_.set_title(\"Confusion matrix\")\n",
    "\n",
    "print(disp.confusion_matrix)\n",
    "\n",
    "plt.show()"
   ]
  }
 ],
 "metadata": {
  "kaggle": {
   "accelerator": "none",
   "dataSources": [],
   "dockerImageVersionId": 30786,
   "isGpuEnabled": false,
   "isInternetEnabled": false,
   "language": "python",
   "sourceType": "notebook"
  },
  "kernelspec": {
   "display_name": "Python 3",
   "language": "python",
   "name": "python3"
  },
  "language_info": {
   "codemirror_mode": {
    "name": "ipython",
    "version": 3
   },
   "file_extension": ".py",
   "mimetype": "text/x-python",
   "name": "python",
   "nbconvert_exporter": "python",
   "pygments_lexer": "ipython3",
   "version": "3.10.14"
  },
  "papermill": {
   "default_parameters": {},
   "duration": 6.06674,
   "end_time": "2024-10-10T10:30:15.381489",
   "environment_variables": {},
   "exception": null,
   "input_path": "__notebook__.ipynb",
   "output_path": "__notebook__.ipynb",
   "parameters": {},
   "start_time": "2024-10-10T10:30:09.314749",
   "version": "2.6.0"
  }
 },
 "nbformat": 4,
 "nbformat_minor": 5
}
